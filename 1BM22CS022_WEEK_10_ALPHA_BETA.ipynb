{
  "nbformat": 4,
  "nbformat_minor": 0,
  "metadata": {
    "colab": {
      "provenance": []
    },
    "kernelspec": {
      "name": "python3",
      "display_name": "Python 3"
    },
    "language_info": {
      "name": "python"
    }
  },
  "cells": [
    {
      "cell_type": "code",
      "execution_count": 6,
      "metadata": {
        "colab": {
          "base_uri": "https://localhost:8080/"
        },
        "id": "8y1v7LKhx8lE",
        "outputId": "53026a27-b819-4a3f-d4cd-2759da1c238d"
      },
      "outputs": [
        {
          "output_type": "stream",
          "name": "stdout",
          "text": [
            "The optimal value is: 10\n",
            "\n",
            "Aditya Singh\n",
            "1BM22CS022\n"
          ]
        }
      ],
      "source": [
        "# Alpha-Beta Pruning Algorithm in Python\n",
        "\n",
        "# Define the utility values of leaf nodes\n",
        "values = [10,9,14,18,5,4,50,3]\n",
        "\n",
        "# Function to implement Alpha-Beta Pruning\n",
        "def alpha_beta_pruning(depth, node_index, maximizing_player, values, alpha, beta):\n",
        "    if depth == 3:  # Reached a leaf node\n",
        "        return values[node_index]\n",
        "\n",
        "    if maximizing_player:\n",
        "        max_eval = float('-inf')\n",
        "        for i in range(2):  # Each node has 2 children\n",
        "            val = alpha_beta_pruning(depth + 1, node_index * 2 + i, False, values, alpha, beta)\n",
        "            max_eval = max(max_eval, val)\n",
        "            alpha = max(alpha, val)\n",
        "            if beta <= alpha:\n",
        "                break  # Beta cutoff\n",
        "        return max_eval\n",
        "    else:\n",
        "        min_eval = float('inf')\n",
        "        for i in range(2):\n",
        "            val = alpha_beta_pruning(depth + 1, node_index * 2 + i, True, values, alpha, beta)\n",
        "            min_eval = min(min_eval, val)\n",
        "            beta = min(beta, val)\n",
        "            if beta <= alpha:\n",
        "                break  # Alpha cutoff\n",
        "        return min_eval\n",
        "\n",
        "# Start the Alpha-Beta Pruning process\n",
        "alpha = float('-inf')\n",
        "beta = float('inf')\n",
        "optimal_value = alpha_beta_pruning(0, 0, True, values, alpha, beta)\n",
        "print(f\"The optimal value is: {optimal_value}\")\n",
        "\n",
        "print(\"\\nAditya Singh\")\n",
        "print(\"1BM22CS022\")\n"
      ]
    }
  ]
}