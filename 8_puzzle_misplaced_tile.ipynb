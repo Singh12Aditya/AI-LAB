{
  "nbformat": 4,
  "nbformat_minor": 0,
  "metadata": {
    "colab": {
      "provenance": []
    },
    "kernelspec": {
      "name": "python3",
      "display_name": "Python 3"
    },
    "language_info": {
      "name": "python"
    }
  },
  "cells": [
    {
      "cell_type": "code",
      "execution_count": 1,
      "metadata": {
        "colab": {
          "base_uri": "https://localhost:8080/"
        },
        "id": "lRKrS4BiWk_j",
        "outputId": "25241e08-c026-42b9-8378-d46f663fda3f"
      },
      "outputs": [
        {
          "output_type": "stream",
          "name": "stdout",
          "text": [
            "Number of misplaced tiles: 2\n"
          ]
        }
      ],
      "source": [
        "class PuzzleState:\n",
        "    def __init__(self, board, blank_pos):\n",
        "        self.board = board\n",
        "        self.blank_pos = blank_pos\n",
        "\n",
        "    def misplaced_tiles(self, goal_state):\n",
        "        \"\"\"Calculate the number of misplaced tiles compared to the goal state.\"\"\"\n",
        "        count = 0\n",
        "        for i in range(3):\n",
        "            for j in range(3):\n",
        "                if self.board[i][j] != goal_state[i][j] and self.board[i][j] != 0:\n",
        "                    count += 1\n",
        "        return count\n",
        "\n",
        "\n",
        "def main():\n",
        "    # Initial state of the puzzle\n",
        "    initial_board = [\n",
        "        [1, 2, 3],\n",
        "        [4, 0, 5],\n",
        "        [7, 8, 6]\n",
        "    ]\n",
        "\n",
        "    # Goal state of the puzzle\n",
        "    goal_board = [\n",
        "        [1, 2, 3],\n",
        "        [4, 5, 6],\n",
        "        [7, 8, 0]\n",
        "    ]\n",
        "\n",
        "\n",
        "    blank_pos = (1, 1)\n",
        "\n",
        "\n",
        "    puzzle = PuzzleState(initial_board, blank_pos)\n",
        "\n",
        "\n",
        "    misplaced_count = puzzle.misplaced_tiles(goal_board)\n",
        "\n",
        "    print(f'Number of misplaced tiles: {misplaced_count}')\n",
        "\n",
        "\n",
        "if __name__ == \"__main__\":\n",
        "    main()\n"
      ]
    }
  ]
}