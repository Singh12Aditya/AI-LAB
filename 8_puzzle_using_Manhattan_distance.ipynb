{
  "nbformat": 4,
  "nbformat_minor": 0,
  "metadata": {
    "colab": {
      "provenance": []
    },
    "kernelspec": {
      "name": "python3",
      "display_name": "Python 3"
    },
    "language_info": {
      "name": "python"
    }
  },
  "cells": [
    {
      "cell_type": "code",
      "execution_count": 1,
      "metadata": {
        "colab": {
          "base_uri": "https://localhost:8080/"
        },
        "id": "JqEGJx_TYshE",
        "outputId": "35ffc38a-03c4-4cc2-98dd-6ddf15fea643"
      },
      "outputs": [
        {
          "output_type": "stream",
          "name": "stdout",
          "text": [
            "Total Manhattan distance: 2\n"
          ]
        }
      ],
      "source": [
        "class PuzzleState:\n",
        "    def __init__(self, board, blank_pos):\n",
        "        self.board = board\n",
        "        self.blank_pos = blank_pos\n",
        "\n",
        "    def manhattan_distance(self, goal_state):\n",
        "        \"\"\"Calculate the total Manhattan distance of the tiles from their goal positions.\"\"\"\n",
        "        total_distance = 0\n",
        "        for i in range(3):\n",
        "            for j in range(3):\n",
        "                tile = self.board[i][j]\n",
        "                if tile != 0:\n",
        "                    target_x = (tile - 1) // 3\n",
        "                    target_y = (tile - 1) % 3\n",
        "                    distance = abs(target_x - i) + abs(target_y - j)\n",
        "                    total_distance += distance\n",
        "        return total_distance\n",
        "\n",
        "def main():\n",
        "    initial_board = [\n",
        "        [1, 2, 3],\n",
        "        [4, 0, 5],\n",
        "        [7, 8, 6]\n",
        "    ]\n",
        "\n",
        "    goal_board = [\n",
        "        [1, 2, 3],\n",
        "        [4, 5, 6],\n",
        "        [7, 8, 0]\n",
        "    ]\n",
        "    blank_pos = (1, 1)\n",
        "    puzzle = PuzzleState(initial_board, blank_pos)\n",
        "    manhattan_distance = puzzle.manhattan_distance(goal_board)\n",
        "    print(f'Total Manhattan distance: {manhattan_distance}')\n",
        "if __name__ == \"__main__\":\n",
        "    main()\n"
      ]
    }
  ]
}