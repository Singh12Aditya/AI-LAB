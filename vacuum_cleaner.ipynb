{
  "nbformat": 4,
  "nbformat_minor": 0,
  "metadata": {
    "colab": {
      "provenance": []
    },
    "kernelspec": {
      "name": "python3",
      "display_name": "Python 3"
    },
    "language_info": {
      "name": "python"
    }
  },
  "cells": [
    {
      "cell_type": "code",
      "execution_count": 2,
      "metadata": {
        "colab": {
          "base_uri": "https://localhost:8080/"
        },
        "id": "Tbky9XzeQSAH",
        "outputId": "26a09ce6-9446-4c55-f9c4-b4df66050780"
      },
      "outputs": [
        {
          "output_type": "stream",
          "name": "stdout",
          "text": [
            "Enter the size of the house (n x n): 3\n",
            "Enter the house layout row by row (use '.' for cleanable and '*' for dirty):\n",
            ".**\n",
            ".**\n",
            ".**\n",
            "Yes, the house can be cleaned.\n",
            "1 1\n",
            "2 1\n",
            "3 1\n"
          ]
        },
        {
          "output_type": "execute_result",
          "data": {
            "text/plain": [
              "0"
            ]
          },
          "metadata": {},
          "execution_count": 2
        }
      ],
      "source": [
        "\n",
        "A = [[0 for i in range(105)] for j in range(105)]\n",
        "ans = []\n",
        "\n",
        "def printt():\n",
        "    print(\"Yes, the house can be cleaned.\")\n",
        "    for i in range(len(ans)):\n",
        "        print(ans[i][0], ans[i][1])\n",
        "\n",
        "def solve(n):\n",
        "    global ans\n",
        "\n",
        "    for i in range(n):\n",
        "        for j in range(n):\n",
        "            if (A[i][j] == '.'):\n",
        "                ans.append([i + 1, j + 1])\n",
        "                break\n",
        "\n",
        "    if (len(ans) == n):\n",
        "        printt()\n",
        "        return 0\n",
        "\n",
        "    ans = []\n",
        "\n",
        "    for i in range(n):\n",
        "        for j in range(n):\n",
        "            if (A[j][i] == '.'):\n",
        "                ans.append([i + 1, j + 1])\n",
        "                break\n",
        "\n",
        "    if (len(ans) == n):\n",
        "        printt()\n",
        "        return 0\n",
        "    print(\"house cannot be cleaned.\")\n",
        "\n",
        "\n",
        "n = int(input(\"Enter the size of the house (n x n): \"))\n",
        "print(\"Enter the house layout row by row (use '.' for cleanable and '*' for dirty):\")\n",
        "\n",
        "for i in range(n):\n",
        "    row_input = input()\n",
        "    A[i] = list(row_input.strip())\n",
        "\n",
        "solve(n)\n"
      ]
    }
  ]
}